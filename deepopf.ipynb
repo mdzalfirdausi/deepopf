{
 "cells": [
  {
   "cell_type": "code",
   "execution_count": 3,
   "id": "343a18af",
   "metadata": {},
   "outputs": [],
   "source": [
    "#DC-OPF\n",
    "from gekko import GEKKO\n",
    "from scipy.sparse import csr_matrix as sparse\n",
    "from pypower.loadcase import loadcase\n",
    "from pypower.makeBdc import makeBdc\n",
    "import numpy as np\n",
    "from pypower.ext2int import ext2int1\n",
    "# from torch import nn\n",
    "# import torch.nn.functional as F\n",
    "input_range = 0.15\n",
    "default=1.15\n",
    "Lower_bound = -1e5\n",
    "Upper_bound = 1e5"
   ]
  },
  {
   "cell_type": "code",
   "execution_count": 9,
   "id": "1b5a7472",
   "metadata": {},
   "outputs": [],
   "source": [
    "casefile = './mats/pglib_opf_case3_lmbd.mat'\n",
    "mpc = loadcase(casefile)\n",
    "standval, mpc_bus, mpc_gen, mpc_branch = \\\n",
    "mpc['baseMVA'], mpc['bus'], mpc['gen'], mpc['branch']"
   ]
  },
  {
   "cell_type": "code",
   "execution_count": null,
   "id": "6c7698e8",
   "metadata": {},
   "outputs": [],
   "source": []
  }
 ],
 "metadata": {
  "kernelspec": {
   "display_name": "base",
   "language": "python",
   "name": "python3"
  },
  "language_info": {
   "codemirror_mode": {
    "name": "ipython",
    "version": 3
   },
   "file_extension": ".py",
   "mimetype": "text/x-python",
   "name": "python",
   "nbconvert_exporter": "python",
   "pygments_lexer": "ipython3",
   "version": "3.11.3"
  }
 },
 "nbformat": 4,
 "nbformat_minor": 5
}
